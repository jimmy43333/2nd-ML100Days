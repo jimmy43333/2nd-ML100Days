{
 "cells": [
  {
   "cell_type": "markdown",
   "metadata": {},
   "source": [
    "# NOTE: Numpy"
   ]
  },
  {
   "cell_type": "code",
   "execution_count": 1,
   "metadata": {},
   "outputs": [],
   "source": [
    "import numpy as np\n",
    "import random"
   ]
  },
  {
   "cell_type": "markdown",
   "metadata": {},
   "source": [
    "#### array屬性\n",
    "```\n",
    "stock_array = np.array(stock_data)\n",
    "print(\"ndim:{0}\".format(stock_array.ndim))\n",
    "print(\"size:{0}\".format(stock_array.size))\n",
    "print(\"shape:{0}\".format(stock_array.shape))\n",
    "print(\"dtype:{0}\".format(stock_array.dtype))\n",
    "print(\"itemsize:{0}\".format(stock_array.itemsize))\n",
    "print(\"data:{0}\".format(stock_array.data))\n",
    "```\n",
    "#### 一維陣列\n",
    "```\n",
    "np.array([,,,])\n",
    "np.arange(start,end,step,type)\n",
    "```\n",
    "#### 二維陣列\n",
    "```\n",
    "np.array([,,,],[,,,],type)\n",
    "```\n",
    "#### 其他宣告\n",
    "```\n",
    "np.zeros((rows,cols))\n",
    "np.ones((rows,cols))\n",
    "np.empty((rows,cols))\n",
    "np.linespace(start,end,numbers of element)\n",
    "```\n"
   ]
  },
  {
   "cell_type": "markdown",
   "metadata": {},
   "source": [
    "### Random\n",
    "* np.random.randint(begin,end,size)\n",
    "* np.random.uniform(begin,end,size)\n",
    "* random.random()\n",
    "* random.randrange(begin,end,step)"
   ]
  },
  {
   "cell_type": "code",
   "execution_count": 3,
   "metadata": {},
   "outputs": [
    {
     "name": "stdout",
     "output_type": "stream",
     "text": [
      "[8 2 5 0 8]\n",
      "[20.23489796  1.30556765 52.96842041 43.38515975  7.7949156 ]\n",
      "20\n"
     ]
    }
   ],
   "source": [
    "r = np.random.randint(0,10,size=5)\n",
    "print(r)\n",
    "r = np.random.uniform(0.5,55.4,size=5)\n",
    "print(r)\n",
    "r = random.randrange(0,100,10)\n",
    "print(r)"
   ]
  },
  {
   "cell_type": "markdown",
   "metadata": {},
   "source": [
    "# Reference"
   ]
  },
  {
   "cell_type": "code",
   "execution_count": null,
   "metadata": {},
   "outputs": [],
   "source": []
  }
 ],
 "metadata": {
  "kernelspec": {
   "display_name": "Python 3",
   "language": "python",
   "name": "python3"
  },
  "language_info": {
   "codemirror_mode": {
    "name": "ipython",
    "version": 3
   },
   "file_extension": ".py",
   "mimetype": "text/x-python",
   "name": "python",
   "nbconvert_exporter": "python",
   "pygments_lexer": "ipython3",
   "version": "3.7.3"
  }
 },
 "nbformat": 4,
 "nbformat_minor": 2
}
