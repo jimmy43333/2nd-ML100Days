{
 "cells": [
  {
   "cell_type": "markdown",
   "metadata": {},
   "source": [
    "# NOTE: Numpy"
   ]
  },
  {
   "cell_type": "code",
   "execution_count": 1,
   "metadata": {},
   "outputs": [],
   "source": [
    "import numpy as np\n",
    "import random"
   ]
  },
  {
   "cell_type": "markdown",
   "metadata": {},
   "source": [
    "#### array屬性\n",
    "```\n",
    "stock_array = np.array(stock_data)\n",
    "print(\"ndim:{0}\".format(stock_array.ndim))\n",
    "print(\"size:{0}\".format(stock_array.size))\n",
    "print(\"shape:{0}\".format(stock_array.shape))\n",
    "print(\"dtype:{0}\".format(stock_array.dtype))\n",
    "print(\"itemsize:{0}\".format(stock_array.itemsize))\n",
    "print(\"data:{0}\".format(stock_array.data))\n",
    "```\n",
    "#### 一維陣列\n",
    "```\n",
    "np.array([,,,])\n",
    "np.arange(start,end,step,type)\n",
    "```\n",
    "#### 二維陣列\n",
    "```\n",
    "np.array([,,,],[,,,],type)\n",
    "```\n",
    "#### 其他宣告\n",
    "```\n",
    "np.zeros((rows,cols))\n",
    "np.ones((rows,cols))\n",
    "np.empty((rows,cols))\n",
    "np.linespace(start,end,numbers of element)\n",
    "```\n"
   ]
  },
  {
   "cell_type": "markdown",
   "metadata": {},
   "source": [
    "### Random\n",
    "* np.random.randint(begin,end,size)\n",
    "* np.random.uniform(begin,end,size)\n",
    "* np.random.randn(row,cols)\n",
    "* np.random.rand(row,cols)         # [0,1)\n",
    "* random.random()\n",
    "* random.randrange(begin,end,step)"
   ]
  },
  {
   "cell_type": "code",
   "execution_count": 2,
   "metadata": {},
   "outputs": [
    {
     "name": "stdout",
     "output_type": "stream",
     "text": [
      "[4 0 2 8 4]\n",
      "[38.86761849 37.69092308 40.00225207  2.53046949 41.6443664 ]\n",
      "90\n",
      "[[0.64127881 0.87955241 0.43229307]\n",
      " [0.10286741 0.68096118 0.42164527]\n",
      " [0.04731639 0.50886044 0.6659668 ]]\n",
      "[[-9.79025096e-05  1.49038042e+00  9.60968480e-02]\n",
      " [ 4.19482234e-01 -7.82017632e-01 -5.56477455e-03]\n",
      " [-7.13478234e-04 -4.40351588e-02 -1.25687642e+00]]\n"
     ]
    }
   ],
   "source": [
    "r = np.random.randint(0,10,size=5)\n",
    "print(r)\n",
    "r = np.random.uniform(0.5,55.4,size=5)\n",
    "print(r)\n",
    "r = random.randrange(0,100,10)\n",
    "print(r)\n",
    "# 標準正態分佈\n",
    "r = np.random.rand(3,3)\n",
    "print(r)\n",
    "r = np.random.randn(3,3)\n",
    "print(r)"
   ]
  },
  {
   "cell_type": "markdown",
   "metadata": {},
   "source": [
    "# Reference"
   ]
  },
  {
   "cell_type": "code",
   "execution_count": null,
   "metadata": {},
   "outputs": [],
   "source": []
  }
 ],
 "metadata": {
  "kernelspec": {
   "display_name": "Python 3",
   "language": "python",
   "name": "python3"
  },
  "language_info": {
   "codemirror_mode": {
    "name": "ipython",
    "version": 3
   },
   "file_extension": ".py",
   "mimetype": "text/x-python",
   "name": "python",
   "nbconvert_exporter": "python",
   "pygments_lexer": "ipython3",
   "version": "3.7.3"
  }
 },
 "nbformat": 4,
 "nbformat_minor": 2
}
