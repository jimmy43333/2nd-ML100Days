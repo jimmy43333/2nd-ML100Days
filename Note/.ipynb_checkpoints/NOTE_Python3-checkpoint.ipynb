{
 "cells": [
  {
   "cell_type": "markdown",
   "metadata": {},
   "source": [
    "# Python Note\n"
   ]
  },
  {
   "cell_type": "markdown",
   "metadata": {},
   "source": [
    "### copy & deepcopy\n",
    "http://www.madmalls.com/blog/post/copy-and-deepcopy-in-python/#31\n",
    "\n",
    "https://morvanzhou.github.io/tutorials/python-basic/basic/13-04-copy/"
   ]
  },
  {
   "cell_type": "code",
   "execution_count": 14,
   "metadata": {},
   "outputs": [
    {
     "name": "stdout",
     "output_type": "stream",
     "text": [
      "4592005512\n",
      "4592004104\n",
      "[555, 2, 3]\n",
      "[111, 2, 3]\n",
      "[1, 222, 3]\n",
      "[1, 2, 3]\n",
      "False\n",
      "False\n",
      "True\n",
      "[1, 2, [44, 55, 777]]\n",
      "[1, 2, [44, 55, 66]]\n"
     ]
    }
   ],
   "source": [
    "import copy\n",
    "a= [1,2,3]\n",
    "b = a\n",
    "#淺拷貝\n",
    "c = copy.copy(a)\n",
    "#深拷貝\n",
    "d = copy.deepcopy(a)\n",
    "\n",
    "print(id(a))\n",
    "print(id(c))\n",
    "c[1] = 222\n",
    "b[0] = 555\n",
    "print(a)\n",
    "a[0] = 111\n",
    "print(b)\n",
    "print(c)\n",
    "print(d)\n",
    "\n",
    "a = [1,2,[44,55,66]]\n",
    "c = copy.copy(a)\n",
    "d = copy.deepcopy(a)\n",
    "print(id(a)==id(d))\n",
    "print(id(a[2])==id(d[2]))\n",
    "print(id(a[2])==id(c[2]))\n",
    "a[2][2] = 777\n",
    "print(c)\n",
    "print(d)"
   ]
  },
  {
   "cell_type": "code",
   "execution_count": null,
   "metadata": {},
   "outputs": [],
   "source": []
  }
 ],
 "metadata": {
  "kernelspec": {
   "display_name": "Python 3",
   "language": "python",
   "name": "python3"
  },
  "language_info": {
   "codemirror_mode": {
    "name": "ipython",
    "version": 3
   },
   "file_extension": ".py",
   "mimetype": "text/x-python",
   "name": "python",
   "nbconvert_exporter": "python",
   "pygments_lexer": "ipython3",
   "version": "3.6.5"
  }
 },
 "nbformat": 4,
 "nbformat_minor": 2
}
