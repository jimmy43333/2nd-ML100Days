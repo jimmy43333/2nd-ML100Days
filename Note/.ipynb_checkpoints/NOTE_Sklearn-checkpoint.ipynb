{
 "cells": [
  {
   "cell_type": "markdown",
   "metadata": {},
   "source": [
    "# Sklearn"
   ]
  },
  {
   "cell_type": "code",
   "execution_count": 1,
   "metadata": {},
   "outputs": [],
   "source": [
    "from sklearn.preprocessing import MinMaxScaler\n",
    "from sklearn.preprocessing import StandardScaler\n",
    "import numpy as np\n",
    "import pandas as pd"
   ]
  },
  {
   "cell_type": "code",
   "execution_count": 2,
   "metadata": {},
   "outputs": [
    {
     "name": "stdout",
     "output_type": "stream",
     "text": [
      "1.0\n",
      "-1.0\n"
     ]
    }
   ],
   "source": [
    "arr = pd.Series(np.random.rand(100) * 100)\n",
    "m = MinMaxScaler((-1,1))\n",
    "arr = m.fit_transform(arr.to_frame())\n",
    "print(arr.max())\n",
    "print(arr.min())"
   ]
  },
  {
   "cell_type": "code",
   "execution_count": 3,
   "metadata": {},
   "outputs": [
    {
     "data": {
      "text/plain": [
       "array([[-0.98393064],\n",
       "       [-0.23287999],\n",
       "       [ 1.44028301],\n",
       "       [ 0.34007256],\n",
       "       [ 1.25999813],\n",
       "       [ 1.45124857],\n",
       "       [ 1.42038565],\n",
       "       [ 0.99464787],\n",
       "       [-0.01843693],\n",
       "       [ 0.23566655],\n",
       "       [-0.50905084],\n",
       "       [-1.17812284],\n",
       "       [ 1.42938264],\n",
       "       [-1.13119738],\n",
       "       [ 1.0765475 ],\n",
       "       [-0.24172105],\n",
       "       [-1.64836916],\n",
       "       [-0.58148055],\n",
       "       [-0.86254572],\n",
       "       [-0.26116443],\n",
       "       [ 1.11316559],\n",
       "       [-0.92810081],\n",
       "       [-1.74064888],\n",
       "       [ 0.35059825],\n",
       "       [-0.87662092],\n",
       "       [-1.15612419],\n",
       "       [ 1.17208289],\n",
       "       [-1.66137734],\n",
       "       [ 1.27997087],\n",
       "       [ 0.60663975],\n",
       "       [-0.15403943],\n",
       "       [-1.37876394],\n",
       "       [ 0.99418785],\n",
       "       [ 0.55189367],\n",
       "       [ 0.19007974],\n",
       "       [-0.01133607],\n",
       "       [ 0.10457362],\n",
       "       [ 0.53102183],\n",
       "       [ 1.1450448 ],\n",
       "       [-0.05668438],\n",
       "       [ 1.26359573],\n",
       "       [ 1.38969442],\n",
       "       [ 1.30307534],\n",
       "       [-1.64240477],\n",
       "       [ 1.20671037],\n",
       "       [-1.94954451],\n",
       "       [ 0.99091139],\n",
       "       [ 1.06724878],\n",
       "       [-0.56831549],\n",
       "       [ 0.35216774],\n",
       "       [ 0.26155378],\n",
       "       [-1.85139681],\n",
       "       [-1.06961477],\n",
       "       [-0.38838644],\n",
       "       [ 0.16950059],\n",
       "       [ 0.55345888],\n",
       "       [-0.37551572],\n",
       "       [ 1.52736992],\n",
       "       [-0.55321693],\n",
       "       [ 1.01340865],\n",
       "       [ 0.15201236],\n",
       "       [-0.36540323],\n",
       "       [ 0.73757653],\n",
       "       [-0.13847063],\n",
       "       [-0.39698823],\n",
       "       [-1.39596026],\n",
       "       [ 0.31829132],\n",
       "       [-0.17054064],\n",
       "       [-0.75760755],\n",
       "       [-0.69598596],\n",
       "       [-1.58094585],\n",
       "       [-0.9728294 ],\n",
       "       [-1.85911893],\n",
       "       [-0.09753908],\n",
       "       [ 0.60196252],\n",
       "       [ 1.44939594],\n",
       "       [-0.29228702],\n",
       "       [ 0.74831744],\n",
       "       [ 0.15427127],\n",
       "       [ 1.25835167],\n",
       "       [ 0.48334716],\n",
       "       [-1.28364827],\n",
       "       [-1.67198944],\n",
       "       [-1.4479072 ],\n",
       "       [-0.78333182],\n",
       "       [ 0.78840086],\n",
       "       [ 1.14243178],\n",
       "       [-0.16076765],\n",
       "       [-0.09746143],\n",
       "       [ 0.01390678],\n",
       "       [ 0.73503191],\n",
       "       [ 0.837586  ],\n",
       "       [ 1.16283835],\n",
       "       [ 1.30151394],\n",
       "       [-0.35304406],\n",
       "       [ 0.18475343],\n",
       "       [ 1.49689729],\n",
       "       [-1.04493262],\n",
       "       [-0.99182053],\n",
       "       [-1.78350276]])"
      ]
     },
     "execution_count": 3,
     "metadata": {},
     "output_type": "execute_result"
    }
   ],
   "source": [
    "arr = pd.Series(np.random.rand(100) * 100)\n",
    "ss= StandardScaler()\n",
    "out = ss.fit_transform(arr.to_frame())\n",
    "out"
   ]
  },
  {
   "cell_type": "markdown",
   "metadata": {},
   "source": [
    "# Reference\n",
    "* [Scikit-Learn 教學：Python 與機器學習](https://www.datacamp.com/community/tutorials/scikit-learn-python)"
   ]
  }
 ],
 "metadata": {
  "kernelspec": {
   "display_name": "Python 3",
   "language": "python",
   "name": "python3"
  },
  "language_info": {
   "codemirror_mode": {
    "name": "ipython",
    "version": 3
   },
   "file_extension": ".py",
   "mimetype": "text/x-python",
   "name": "python",
   "nbconvert_exporter": "python",
   "pygments_lexer": "ipython3",
   "version": "3.7.3"
  }
 },
 "nbformat": 4,
 "nbformat_minor": 2
}
