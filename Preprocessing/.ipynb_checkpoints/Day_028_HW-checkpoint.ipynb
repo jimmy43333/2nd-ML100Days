{
 "cells": [
  {
   "cell_type": "markdown",
   "metadata": {
    "collapsed": true
   },
   "source": [
    "# 作業 : (Kaggle)鐵達尼生存預測\n",
    "https://www.kaggle.com/c/titanic"
   ]
  },
  {
   "cell_type": "markdown",
   "metadata": {},
   "source": [
    "# [作業目標]\n",
    "- 試著調整特徵篩選的門檻值, 觀察會有什麼影響效果"
   ]
  },
  {
   "cell_type": "markdown",
   "metadata": {},
   "source": [
    "# [作業重點]\n",
    "- 調整相關係數過濾法的篩選門檻, 看看篩選結果的影響 (In[5]~In[8], Out[5]~Out[8])\n",
    "- 調整L1 嵌入法篩選門檻, 看看篩選結果的影響 (In[9]~In[11], Out[9]~Out[11])"
   ]
  },
  {
   "cell_type": "code",
<<<<<<< HEAD
   "execution_count": 40,
=======
   "execution_count": 1,
>>>>>>> 9864ce51cc0c807dbab8777ac55915567745ea64
   "metadata": {},
   "outputs": [
    {
     "data": {
      "text/html": [
       "<div>\n",
       "<style scoped>\n",
       "    .dataframe tbody tr th:only-of-type {\n",
       "        vertical-align: middle;\n",
       "    }\n",
       "\n",
       "    .dataframe tbody tr th {\n",
       "        vertical-align: top;\n",
       "    }\n",
       "\n",
       "    .dataframe thead th {\n",
       "        text-align: right;\n",
       "    }\n",
       "</style>\n",
       "<table border=\"1\" class=\"dataframe\">\n",
       "  <thead>\n",
       "    <tr style=\"text-align: right;\">\n",
       "      <th></th>\n",
       "      <th>Survived</th>\n",
       "      <th>Pclass</th>\n",
       "      <th>Name</th>\n",
       "      <th>Sex</th>\n",
       "      <th>Age</th>\n",
       "      <th>SibSp</th>\n",
       "      <th>Parch</th>\n",
       "      <th>Ticket</th>\n",
       "      <th>Fare</th>\n",
       "      <th>Cabin</th>\n",
       "      <th>Embarked</th>\n",
       "    </tr>\n",
       "  </thead>\n",
       "  <tbody>\n",
       "    <tr>\n",
       "      <th>0</th>\n",
       "      <td>0</td>\n",
       "      <td>3</td>\n",
       "      <td>Braund, Mr. Owen Harris</td>\n",
       "      <td>male</td>\n",
       "      <td>22.0</td>\n",
       "      <td>1</td>\n",
       "      <td>0</td>\n",
       "      <td>A/5 21171</td>\n",
       "      <td>7.2500</td>\n",
       "      <td>NaN</td>\n",
       "      <td>S</td>\n",
       "    </tr>\n",
       "    <tr>\n",
       "      <th>1</th>\n",
       "      <td>1</td>\n",
       "      <td>1</td>\n",
       "      <td>Cumings, Mrs. John Bradley (Florence Briggs Th...</td>\n",
       "      <td>female</td>\n",
       "      <td>38.0</td>\n",
       "      <td>1</td>\n",
       "      <td>0</td>\n",
       "      <td>PC 17599</td>\n",
       "      <td>71.2833</td>\n",
       "      <td>C85</td>\n",
       "      <td>C</td>\n",
       "    </tr>\n",
       "    <tr>\n",
       "      <th>2</th>\n",
       "      <td>1</td>\n",
       "      <td>3</td>\n",
       "      <td>Heikkinen, Miss. Laina</td>\n",
       "      <td>female</td>\n",
       "      <td>26.0</td>\n",
       "      <td>0</td>\n",
       "      <td>0</td>\n",
       "      <td>STON/O2. 3101282</td>\n",
       "      <td>7.9250</td>\n",
       "      <td>NaN</td>\n",
       "      <td>S</td>\n",
       "    </tr>\n",
       "    <tr>\n",
       "      <th>3</th>\n",
       "      <td>1</td>\n",
       "      <td>1</td>\n",
       "      <td>Futrelle, Mrs. Jacques Heath (Lily May Peel)</td>\n",
       "      <td>female</td>\n",
       "      <td>35.0</td>\n",
       "      <td>1</td>\n",
       "      <td>0</td>\n",
       "      <td>113803</td>\n",
       "      <td>53.1000</td>\n",
       "      <td>C123</td>\n",
       "      <td>S</td>\n",
       "    </tr>\n",
       "    <tr>\n",
       "      <th>4</th>\n",
       "      <td>0</td>\n",
       "      <td>3</td>\n",
       "      <td>Allen, Mr. William Henry</td>\n",
       "      <td>male</td>\n",
       "      <td>35.0</td>\n",
       "      <td>0</td>\n",
       "      <td>0</td>\n",
       "      <td>373450</td>\n",
       "      <td>8.0500</td>\n",
       "      <td>NaN</td>\n",
       "      <td>S</td>\n",
       "    </tr>\n",
       "  </tbody>\n",
       "</table>\n",
       "</div>"
      ],
      "text/plain": [
       "   Survived  Pclass                                               Name  \\\n",
       "0         0       3                            Braund, Mr. Owen Harris   \n",
       "1         1       1  Cumings, Mrs. John Bradley (Florence Briggs Th...   \n",
       "2         1       3                             Heikkinen, Miss. Laina   \n",
       "3         1       1       Futrelle, Mrs. Jacques Heath (Lily May Peel)   \n",
       "4         0       3                           Allen, Mr. William Henry   \n",
       "\n",
       "      Sex   Age  SibSp  Parch            Ticket     Fare Cabin Embarked  \n",
       "0    male  22.0      1      0         A/5 21171   7.2500   NaN        S  \n",
       "1  female  38.0      1      0          PC 17599  71.2833   C85        C  \n",
       "2  female  26.0      0      0  STON/O2. 3101282   7.9250   NaN        S  \n",
       "3  female  35.0      1      0            113803  53.1000  C123        S  \n",
       "4    male  35.0      0      0            373450   8.0500   NaN        S  "
      ]
     },
<<<<<<< HEAD
     "execution_count": 40,
=======
     "execution_count": 1,
>>>>>>> 9864ce51cc0c807dbab8777ac55915567745ea64
     "metadata": {},
     "output_type": "execute_result"
    }
   ],
   "source": [
    "# 做完特徵工程前的所有準備 (與前範例相同)\n",
    "import pandas as pd\n",
    "import numpy as np\n",
    "import copy\n",
    "from sklearn.preprocessing import LabelEncoder, MinMaxScaler\n",
    "from sklearn.model_selection import cross_val_score\n",
    "from sklearn.linear_model import LogisticRegression\n",
    "\n",
<<<<<<< HEAD
    "data_path = '../data/Titanic/'\n",
    "df = pd.read_csv(data_path + 'train.csv')\n",
=======
    "data_path = 'data/'\n",
    "df = pd.read_csv(data_path + 'titanic_train.csv')\n",
>>>>>>> 9864ce51cc0c807dbab8777ac55915567745ea64
    "\n",
    "train_Y = df['Survived']\n",
    "df = df.drop(['PassengerId'] , axis=1)\n",
    "df.head()"
   ]
  },
  {
   "cell_type": "code",
<<<<<<< HEAD
   "execution_count": 41,
=======
   "execution_count": 2,
>>>>>>> 9864ce51cc0c807dbab8777ac55915567745ea64
   "metadata": {},
   "outputs": [
    {
     "data": {
<<<<<<< HEAD
      "image/png": "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\n",
      "text/plain": [
       "<Figure size 432x288 with 2 Axes>"
=======
      "image/png": "iVBORw0KGgoAAAANSUhEUgAAAcMAAAFJCAYAAADnrUZgAAAABHNCSVQICAgIfAhkiAAAAAlwSFlz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\nCACIehRDAEDU+18eiw95X6vC7gAAAABJRU5ErkJggg==\n",
      "text/plain": [
       "<Figure size 576x396 with 2 Axes>"
>>>>>>> 9864ce51cc0c807dbab8777ac55915567745ea64
      ]
     },
     "metadata": {},
     "output_type": "display_data"
<<<<<<< HEAD
    },
    {
     "data": {
      "text/html": [
       "<div>\n",
       "<style scoped>\n",
       "    .dataframe tbody tr th:only-of-type {\n",
       "        vertical-align: middle;\n",
       "    }\n",
       "\n",
       "    .dataframe tbody tr th {\n",
       "        vertical-align: top;\n",
       "    }\n",
       "\n",
       "    .dataframe thead th {\n",
       "        text-align: right;\n",
       "    }\n",
       "</style>\n",
       "<table border=\"1\" class=\"dataframe\">\n",
       "  <thead>\n",
       "    <tr style=\"text-align: right;\">\n",
       "      <th></th>\n",
       "      <th>Survived</th>\n",
       "      <th>Pclass</th>\n",
       "      <th>Age</th>\n",
       "      <th>SibSp</th>\n",
       "      <th>Parch</th>\n",
       "      <th>Fare</th>\n",
       "    </tr>\n",
       "  </thead>\n",
       "  <tbody>\n",
       "    <tr>\n",
       "      <th>Survived</th>\n",
       "      <td>1.000000</td>\n",
       "      <td>-0.338481</td>\n",
       "      <td>-0.077221</td>\n",
       "      <td>-0.035322</td>\n",
       "      <td>0.081629</td>\n",
       "      <td>0.257307</td>\n",
       "    </tr>\n",
       "    <tr>\n",
       "      <th>Pclass</th>\n",
       "      <td>-0.338481</td>\n",
       "      <td>1.000000</td>\n",
       "      <td>-0.369226</td>\n",
       "      <td>0.083081</td>\n",
       "      <td>0.018443</td>\n",
       "      <td>-0.549500</td>\n",
       "    </tr>\n",
       "    <tr>\n",
       "      <th>Age</th>\n",
       "      <td>-0.077221</td>\n",
       "      <td>-0.369226</td>\n",
       "      <td>1.000000</td>\n",
       "      <td>-0.308247</td>\n",
       "      <td>-0.189119</td>\n",
       "      <td>0.096067</td>\n",
       "    </tr>\n",
       "    <tr>\n",
       "      <th>SibSp</th>\n",
       "      <td>-0.035322</td>\n",
       "      <td>0.083081</td>\n",
       "      <td>-0.308247</td>\n",
       "      <td>1.000000</td>\n",
       "      <td>0.414838</td>\n",
       "      <td>0.159651</td>\n",
       "    </tr>\n",
       "    <tr>\n",
       "      <th>Parch</th>\n",
       "      <td>0.081629</td>\n",
       "      <td>0.018443</td>\n",
       "      <td>-0.189119</td>\n",
       "      <td>0.414838</td>\n",
       "      <td>1.000000</td>\n",
       "      <td>0.216225</td>\n",
       "    </tr>\n",
       "    <tr>\n",
       "      <th>Fare</th>\n",
       "      <td>0.257307</td>\n",
       "      <td>-0.549500</td>\n",
       "      <td>0.096067</td>\n",
       "      <td>0.159651</td>\n",
       "      <td>0.216225</td>\n",
       "      <td>1.000000</td>\n",
       "    </tr>\n",
       "  </tbody>\n",
       "</table>\n",
       "</div>"
      ],
      "text/plain": [
       "          Survived    Pclass       Age     SibSp     Parch      Fare\n",
       "Survived  1.000000 -0.338481 -0.077221 -0.035322  0.081629  0.257307\n",
       "Pclass   -0.338481  1.000000 -0.369226  0.083081  0.018443 -0.549500\n",
       "Age      -0.077221 -0.369226  1.000000 -0.308247 -0.189119  0.096067\n",
       "SibSp    -0.035322  0.083081 -0.308247  1.000000  0.414838  0.159651\n",
       "Parch     0.081629  0.018443 -0.189119  0.414838  1.000000  0.216225\n",
       "Fare      0.257307 -0.549500  0.096067  0.159651  0.216225  1.000000"
      ]
     },
     "execution_count": 41,
     "metadata": {},
     "output_type": "execute_result"
=======
>>>>>>> 9864ce51cc0c807dbab8777ac55915567745ea64
    }
   ],
   "source": [
    "# 計算df整體相關係數, 並繪製成熱圖\n",
    "import seaborn as sns\n",
    "import matplotlib.pyplot as plt\n",
    "corr = df.corr()\n",
    "sns.heatmap(corr)\n",
<<<<<<< HEAD
    "plt.show()\n",
    "corr"
=======
    "plt.show()"
>>>>>>> 9864ce51cc0c807dbab8777ac55915567745ea64
   ]
  },
  {
   "cell_type": "code",
<<<<<<< HEAD
   "execution_count": 42,
=======
   "execution_count": 3,
>>>>>>> 9864ce51cc0c807dbab8777ac55915567745ea64
   "metadata": {},
   "outputs": [
    {
     "name": "stdout",
     "output_type": "stream",
     "text": [
      "5 Numeric Features : ['Pclass', 'Age', 'SibSp', 'Parch', 'Fare']\n",
      "\n"
     ]
    },
    {
     "data": {
      "text/html": [
       "<div>\n",
       "<style scoped>\n",
       "    .dataframe tbody tr th:only-of-type {\n",
       "        vertical-align: middle;\n",
       "    }\n",
       "\n",
       "    .dataframe tbody tr th {\n",
       "        vertical-align: top;\n",
       "    }\n",
       "\n",
       "    .dataframe thead th {\n",
       "        text-align: right;\n",
       "    }\n",
       "</style>\n",
       "<table border=\"1\" class=\"dataframe\">\n",
       "  <thead>\n",
       "    <tr style=\"text-align: right;\">\n",
       "      <th></th>\n",
       "      <th>Pclass</th>\n",
       "      <th>Age</th>\n",
       "      <th>SibSp</th>\n",
       "      <th>Parch</th>\n",
       "      <th>Fare</th>\n",
       "    </tr>\n",
       "  </thead>\n",
       "  <tbody>\n",
       "    <tr>\n",
       "      <th>0</th>\n",
       "      <td>3</td>\n",
       "      <td>22.0</td>\n",
       "      <td>1</td>\n",
       "      <td>0</td>\n",
       "      <td>7.2500</td>\n",
       "    </tr>\n",
       "    <tr>\n",
       "      <th>1</th>\n",
       "      <td>1</td>\n",
       "      <td>38.0</td>\n",
       "      <td>1</td>\n",
       "      <td>0</td>\n",
       "      <td>71.2833</td>\n",
       "    </tr>\n",
       "    <tr>\n",
       "      <th>2</th>\n",
       "      <td>3</td>\n",
       "      <td>26.0</td>\n",
       "      <td>0</td>\n",
       "      <td>0</td>\n",
       "      <td>7.9250</td>\n",
       "    </tr>\n",
       "    <tr>\n",
       "      <th>3</th>\n",
       "      <td>1</td>\n",
       "      <td>35.0</td>\n",
       "      <td>1</td>\n",
       "      <td>0</td>\n",
       "      <td>53.1000</td>\n",
       "    </tr>\n",
       "    <tr>\n",
       "      <th>4</th>\n",
       "      <td>3</td>\n",
       "      <td>35.0</td>\n",
       "      <td>0</td>\n",
       "      <td>0</td>\n",
       "      <td>8.0500</td>\n",
       "    </tr>\n",
       "  </tbody>\n",
       "</table>\n",
       "</div>"
      ],
      "text/plain": [
       "   Pclass   Age  SibSp  Parch     Fare\n",
       "0       3  22.0      1      0   7.2500\n",
       "1       1  38.0      1      0  71.2833\n",
       "2       3  26.0      0      0   7.9250\n",
       "3       1  35.0      1      0  53.1000\n",
       "4       3  35.0      0      0   8.0500"
      ]
     },
<<<<<<< HEAD
     "execution_count": 42,
=======
     "execution_count": 3,
>>>>>>> 9864ce51cc0c807dbab8777ac55915567745ea64
     "metadata": {},
     "output_type": "execute_result"
    }
   ],
   "source": [
    "# 記得刪除 Survived\n",
    "df = df.drop(['Survived'] , axis=1)\n",
    "\n",
    "#只取 int64, float64 兩種數值型欄位, 存於 num_features 中\n",
    "num_features = []\n",
    "for dtype, feature in zip(df.dtypes, df.columns):\n",
    "    if dtype == 'float64' or dtype == 'int64':\n",
    "        num_features.append(feature)\n",
    "print(f'{len(num_features)} Numeric Features : {num_features}\\n')\n",
    "\n",
    "# 削減文字型欄位, 只剩數值型欄位\n",
    "df = df[num_features]\n",
    "df = df.fillna(-1)\n",
    "MMEncoder = MinMaxScaler()\n",
    "df.head()"
   ]
  },
  {
   "cell_type": "markdown",
   "metadata": {
    "collapsed": true
   },
   "source": [
    "# 作業1\n",
    "* 鐵達尼生存率預測中，試著變更兩種以上的相關係數門檻值，觀察預測能力是否提升?"
   ]
  },
  {
   "cell_type": "code",
<<<<<<< HEAD
   "execution_count": 43,
   "metadata": {},
   "outputs": [
    {
     "name": "stderr",
     "output_type": "stream",
     "text": [
      "/usr/local/lib/python3.6/site-packages/sklearn/linear_model/logistic.py:432: FutureWarning: Default solver will be changed to 'lbfgs' in 0.22. Specify a solver to silence this warning.\n",
      "  FutureWarning)\n",
      "/usr/local/lib/python3.6/site-packages/sklearn/linear_model/logistic.py:432: FutureWarning: Default solver will be changed to 'lbfgs' in 0.22. Specify a solver to silence this warning.\n",
      "  FutureWarning)\n",
      "/usr/local/lib/python3.6/site-packages/sklearn/linear_model/logistic.py:432: FutureWarning: Default solver will be changed to 'lbfgs' in 0.22. Specify a solver to silence this warning.\n",
      "  FutureWarning)\n",
      "/usr/local/lib/python3.6/site-packages/sklearn/linear_model/logistic.py:432: FutureWarning: Default solver will be changed to 'lbfgs' in 0.22. Specify a solver to silence this warning.\n",
      "  FutureWarning)\n",
      "/usr/local/lib/python3.6/site-packages/sklearn/linear_model/logistic.py:432: FutureWarning: Default solver will be changed to 'lbfgs' in 0.22. Specify a solver to silence this warning.\n",
      "  FutureWarning)\n"
     ]
    },
    {
=======
   "execution_count": 4,
   "metadata": {},
   "outputs": [
    {
>>>>>>> 9864ce51cc0c807dbab8777ac55915567745ea64
     "data": {
      "text/plain": [
       "0.7038635542329971"
      ]
     },
<<<<<<< HEAD
     "execution_count": 43,
=======
     "execution_count": 4,
>>>>>>> 9864ce51cc0c807dbab8777ac55915567745ea64
     "metadata": {},
     "output_type": "execute_result"
    }
   ],
   "source": [
    "# 原始特徵 + 邏輯斯迴歸\n",
    "train_X = MMEncoder.fit_transform(df)\n",
    "estimator = LogisticRegression()\n",
    "cross_val_score(estimator, train_X, train_Y, cv=5).mean()"
   ]
  },
  {
   "cell_type": "code",
<<<<<<< HEAD
   "execution_count": 52,
   "metadata": {},
   "outputs": [
    {
     "name": "stdout",
     "output_type": "stream",
     "text": [
      "['Pclass', 'Fare']\n"
     ]
    }
   ],
   "source": [
    "# 篩選相關係數1\n",
    "high_list = list(corr[(corr[\"Survived\"]> 0.1) | (corr[\"Survived\"]< -0.1)].index)\n",
    "high_list.pop(0)\n",
=======
   "execution_count": null,
   "metadata": {
    "collapsed": true
   },
   "outputs": [],
   "source": [
    "# 篩選相關係數1\n",
>>>>>>> 9864ce51cc0c807dbab8777ac55915567745ea64
    "print(high_list)"
   ]
  },
  {
   "cell_type": "code",
<<<<<<< HEAD
   "execution_count": 53,
   "metadata": {},
   "outputs": [
    {
     "name": "stderr",
     "output_type": "stream",
     "text": [
      "/usr/local/lib/python3.6/site-packages/sklearn/linear_model/logistic.py:432: FutureWarning: Default solver will be changed to 'lbfgs' in 0.22. Specify a solver to silence this warning.\n",
      "  FutureWarning)\n",
      "/usr/local/lib/python3.6/site-packages/sklearn/linear_model/logistic.py:432: FutureWarning: Default solver will be changed to 'lbfgs' in 0.22. Specify a solver to silence this warning.\n",
      "  FutureWarning)\n",
      "/usr/local/lib/python3.6/site-packages/sklearn/linear_model/logistic.py:432: FutureWarning: Default solver will be changed to 'lbfgs' in 0.22. Specify a solver to silence this warning.\n",
      "  FutureWarning)\n",
      "/usr/local/lib/python3.6/site-packages/sklearn/linear_model/logistic.py:432: FutureWarning: Default solver will be changed to 'lbfgs' in 0.22. Specify a solver to silence this warning.\n",
      "  FutureWarning)\n",
      "/usr/local/lib/python3.6/site-packages/sklearn/linear_model/logistic.py:432: FutureWarning: Default solver will be changed to 'lbfgs' in 0.22. Specify a solver to silence this warning.\n",
      "  FutureWarning)\n"
     ]
    },
    {
     "data": {
      "text/plain": [
       "0.6791567235397566"
      ]
     },
     "execution_count": 53,
     "metadata": {},
     "output_type": "execute_result"
    }
   ],
=======
   "execution_count": null,
   "metadata": {
    "collapsed": true
   },
   "outputs": [],
>>>>>>> 9864ce51cc0c807dbab8777ac55915567745ea64
   "source": [
    "# 特徵1 + 邏輯斯迴歸\n",
    "train_X = MMEncoder.fit_transform(df[high_list])\n",
    "cross_val_score(estimator, train_X, train_Y, cv=5).mean()"
   ]
  },
  {
   "cell_type": "code",
<<<<<<< HEAD
   "execution_count": 56,
   "metadata": {},
   "outputs": [
    {
     "name": "stdout",
     "output_type": "stream",
     "text": [
      "['Pclass', 'Age', 'Parch', 'Fare']\n"
     ]
    }
   ],
   "source": [
    "# 篩選相關係數2\n",
    "high_list = list(corr[(corr[\"Survived\"]> 0.05) | (corr[\"Survived\"]< -0.05)].index)\n",
    "high_list.pop(0)\n",
=======
   "execution_count": null,
   "metadata": {
    "collapsed": true
   },
   "outputs": [],
   "source": [
    "# 篩選相關係數2\n",
    "\"\"\"\n",
    "Your Code Here\n",
    "\"\"\"\n",
>>>>>>> 9864ce51cc0c807dbab8777ac55915567745ea64
    "print(high_list)"
   ]
  },
  {
   "cell_type": "code",
<<<<<<< HEAD
   "execution_count": 57,
   "metadata": {},
   "outputs": [
    {
     "name": "stderr",
     "output_type": "stream",
     "text": [
      "/usr/local/lib/python3.6/site-packages/sklearn/linear_model/logistic.py:432: FutureWarning: Default solver will be changed to 'lbfgs' in 0.22. Specify a solver to silence this warning.\n",
      "  FutureWarning)\n",
      "/usr/local/lib/python3.6/site-packages/sklearn/linear_model/logistic.py:432: FutureWarning: Default solver will be changed to 'lbfgs' in 0.22. Specify a solver to silence this warning.\n",
      "  FutureWarning)\n",
      "/usr/local/lib/python3.6/site-packages/sklearn/linear_model/logistic.py:432: FutureWarning: Default solver will be changed to 'lbfgs' in 0.22. Specify a solver to silence this warning.\n",
      "  FutureWarning)\n",
      "/usr/local/lib/python3.6/site-packages/sklearn/linear_model/logistic.py:432: FutureWarning: Default solver will be changed to 'lbfgs' in 0.22. Specify a solver to silence this warning.\n",
      "  FutureWarning)\n",
      "/usr/local/lib/python3.6/site-packages/sklearn/linear_model/logistic.py:432: FutureWarning: Default solver will be changed to 'lbfgs' in 0.22. Specify a solver to silence this warning.\n",
      "  FutureWarning)\n"
     ]
    },
    {
     "data": {
      "text/plain": [
       "0.7049872206659582"
      ]
     },
     "execution_count": 57,
     "metadata": {},
     "output_type": "execute_result"
    }
   ],
=======
   "execution_count": null,
   "metadata": {
    "collapsed": true
   },
   "outputs": [],
>>>>>>> 9864ce51cc0c807dbab8777ac55915567745ea64
   "source": [
    "# 特徵2 + 邏輯斯迴歸\n",
    "train_X = MMEncoder.fit_transform(df[high_list])\n",
    "cross_val_score(estimator, train_X, train_Y, cv=5).mean()"
   ]
  },
  {
   "cell_type": "markdown",
   "metadata": {},
   "source": [
    "# 作業2\n",
    "* 續上題，使用 L1 Embedding 做特徵選擇(自訂門檻)，觀察預測能力是否提升?"
   ]
  },
  {
   "cell_type": "code",
<<<<<<< HEAD
   "execution_count": 58,
   "metadata": {},
   "outputs": [
    {
     "data": {
      "text/plain": [
       "array([-0.39684291, -0.25338753, -0.19144856,  0.28161304,  0.28188094])"
      ]
     },
     "execution_count": 58,
     "metadata": {},
     "output_type": "execute_result"
    }
   ],
   "source": [
    "from sklearn.linear_model import Lasso\n",
    "L1_Reg = Lasso(alpha=0.001)\n",
=======
   "execution_count": null,
   "metadata": {
    "collapsed": true
   },
   "outputs": [],
   "source": [
    "from sklearn.linear_model import Lasso\n",
    "\"\"\"\n",
    "Your Code Here, select parameter alpha \n",
    "\"\"\"\n",
>>>>>>> 9864ce51cc0c807dbab8777ac55915567745ea64
    "train_X = MMEncoder.fit_transform(df)\n",
    "L1_Reg.fit(train_X, train_Y)\n",
    "L1_Reg.coef_"
   ]
  },
  {
   "cell_type": "code",
<<<<<<< HEAD
   "execution_count": 59,
   "metadata": {},
   "outputs": [
    {
     "data": {
      "text/plain": [
       "['Pclass', 'Age', 'SibSp', 'Parch', 'Fare']"
      ]
     },
     "execution_count": 59,
     "metadata": {},
     "output_type": "execute_result"
    }
   ],
=======
   "execution_count": null,
   "metadata": {
    "collapsed": true
   },
   "outputs": [],
>>>>>>> 9864ce51cc0c807dbab8777ac55915567745ea64
   "source": [
    "from itertools import compress\n",
    "L1_mask = list((L1_Reg.coef_>0) | (L1_Reg.coef_<0))\n",
    "L1_list = list(compress(list(df), list(L1_mask)))\n",
    "L1_list"
   ]
  },
  {
   "cell_type": "code",
<<<<<<< HEAD
   "execution_count": 60,
   "metadata": {},
   "outputs": [
    {
     "name": "stderr",
     "output_type": "stream",
     "text": [
      "/usr/local/lib/python3.6/site-packages/sklearn/linear_model/logistic.py:432: FutureWarning: Default solver will be changed to 'lbfgs' in 0.22. Specify a solver to silence this warning.\n",
      "  FutureWarning)\n",
      "/usr/local/lib/python3.6/site-packages/sklearn/linear_model/logistic.py:432: FutureWarning: Default solver will be changed to 'lbfgs' in 0.22. Specify a solver to silence this warning.\n",
      "  FutureWarning)\n",
      "/usr/local/lib/python3.6/site-packages/sklearn/linear_model/logistic.py:432: FutureWarning: Default solver will be changed to 'lbfgs' in 0.22. Specify a solver to silence this warning.\n",
      "  FutureWarning)\n",
      "/usr/local/lib/python3.6/site-packages/sklearn/linear_model/logistic.py:432: FutureWarning: Default solver will be changed to 'lbfgs' in 0.22. Specify a solver to silence this warning.\n",
      "  FutureWarning)\n",
      "/usr/local/lib/python3.6/site-packages/sklearn/linear_model/logistic.py:432: FutureWarning: Default solver will be changed to 'lbfgs' in 0.22. Specify a solver to silence this warning.\n",
      "  FutureWarning)\n"
     ]
    },
    {
     "data": {
      "text/plain": [
       "0.7038635542329971"
      ]
     },
     "execution_count": 60,
     "metadata": {},
     "output_type": "execute_result"
    }
   ],
=======
   "execution_count": null,
   "metadata": {
    "collapsed": true
   },
   "outputs": [],
>>>>>>> 9864ce51cc0c807dbab8777ac55915567745ea64
   "source": [
    "# L1_Embedding 特徵 + 線性迴歸\n",
    "train_X = MMEncoder.fit_transform(df[L1_list])\n",
    "cross_val_score(estimator, train_X, train_Y, cv=5).mean()"
   ]
  },
  {
   "cell_type": "code",
   "execution_count": null,
   "metadata": {
    "collapsed": true
   },
   "outputs": [],
   "source": []
  }
 ],
 "metadata": {
  "kernelspec": {
   "display_name": "Python 3",
   "language": "python",
   "name": "python3"
  },
  "language_info": {
   "codemirror_mode": {
    "name": "ipython",
    "version": 3
   },
   "file_extension": ".py",
   "mimetype": "text/x-python",
   "name": "python",
   "nbconvert_exporter": "python",
   "pygments_lexer": "ipython3",
<<<<<<< HEAD
   "version": "3.6.5"
=======
   "version": "3.7.3"
>>>>>>> 9864ce51cc0c807dbab8777ac55915567745ea64
  }
 },
 "nbformat": 4,
 "nbformat_minor": 2
}
