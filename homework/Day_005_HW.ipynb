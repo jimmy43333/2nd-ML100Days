{
 "cells": [
  {
   "cell_type": "code",
   "execution_count": 2,
   "metadata": {},
   "outputs": [],
   "source": [
    "import os\n",
    "import numpy as np\n",
    "import pandas as pd\n",
    "import matplotlib.pyplot as plt\n",
    "%matplotlib inline"
   ]
  },
  {
   "cell_type": "markdown",
   "metadata": {},
   "source": [
    "## 練習時間"
   ]
  },
  {
   "cell_type": "markdown",
   "metadata": {},
   "source": [
    "觀察有興趣的欄位的資料分佈，並嘗試找出有趣的訊息\n",
    "#### Eg\n",
    "- 計算任意欄位的平均數及標準差\n",
    "- 畫出任意欄位的[直方圖](https://zh.wikipedia.org/zh-tw/%E7%9B%B4%E6%96%B9%E5%9B%BE)\n",
    "\n",
    "### Hints:\n",
    "- [Descriptive Statistics For pandas Dataframe](https://chrisalbon.com/python/data_wrangling/pandas_dataframe_descriptive_stats/)\n",
    "- [pandas 中的繪圖函數](https://amaozhao.gitbooks.io/pandas-notebook/content/pandas%E4%B8%AD%E7%9A%84%E7%BB%98%E5%9B%BE%E5%87%BD%E6%95%B0.html)\n"
   ]
  },
  {
   "cell_type": "code",
   "execution_count": 3,
   "metadata": {},
   "outputs": [
    {
     "name": "stdout",
     "output_type": "stream",
     "text": [
      "Shape: (4843, 7)\n"
     ]
    },
    {
     "data": {
      "text/html": [
       "<div>\n",
       "<style scoped>\n",
       "    .dataframe tbody tr th:only-of-type {\n",
       "        vertical-align: middle;\n",
       "    }\n",
       "\n",
       "    .dataframe tbody tr th {\n",
       "        vertical-align: top;\n",
       "    }\n",
       "\n",
       "    .dataframe thead th {\n",
       "        text-align: right;\n",
       "    }\n",
       "</style>\n",
       "<table border=\"1\" class=\"dataframe\">\n",
       "  <thead>\n",
       "    <tr style=\"text-align: right;\">\n",
       "      <th></th>\n",
       "      <th>Date</th>\n",
       "      <th>Open</th>\n",
       "      <th>High</th>\n",
       "      <th>Low</th>\n",
       "      <th>Close</th>\n",
       "      <th>Adj Close</th>\n",
       "      <th>Volume</th>\n",
       "    </tr>\n",
       "  </thead>\n",
       "  <tbody>\n",
       "    <tr>\n",
       "      <th>0</th>\n",
       "      <td>2000-01-04</td>\n",
       "      <td>8644.910156</td>\n",
       "      <td>8803.610352</td>\n",
       "      <td>8642.500000</td>\n",
       "      <td>8756.549805</td>\n",
       "      <td>8756.517578</td>\n",
       "      <td>0.0</td>\n",
       "    </tr>\n",
       "    <tr>\n",
       "      <th>1</th>\n",
       "      <td>2000-01-05</td>\n",
       "      <td>8690.599609</td>\n",
       "      <td>8867.679688</td>\n",
       "      <td>8668.019531</td>\n",
       "      <td>8849.870117</td>\n",
       "      <td>8849.837891</td>\n",
       "      <td>0.0</td>\n",
       "    </tr>\n",
       "    <tr>\n",
       "      <th>2</th>\n",
       "      <td>2000-01-06</td>\n",
       "      <td>8900.559570</td>\n",
       "      <td>9023.990234</td>\n",
       "      <td>8833.910156</td>\n",
       "      <td>8922.030273</td>\n",
       "      <td>8921.997070</td>\n",
       "      <td>0.0</td>\n",
       "    </tr>\n",
       "    <tr>\n",
       "      <th>3</th>\n",
       "      <td>2000-01-07</td>\n",
       "      <td>8853.429688</td>\n",
       "      <td>8940.769531</td>\n",
       "      <td>8739.429688</td>\n",
       "      <td>8849.870117</td>\n",
       "      <td>8849.837891</td>\n",
       "      <td>0.0</td>\n",
       "    </tr>\n",
       "    <tr>\n",
       "      <th>4</th>\n",
       "      <td>2000-01-10</td>\n",
       "      <td>8941.929688</td>\n",
       "      <td>9126.019531</td>\n",
       "      <td>8891.790039</td>\n",
       "      <td>9102.599609</td>\n",
       "      <td>9102.565430</td>\n",
       "      <td>0.0</td>\n",
       "    </tr>\n",
       "    <tr>\n",
       "      <th>5</th>\n",
       "      <td>2000-01-11</td>\n",
       "      <td>9254.179688</td>\n",
       "      <td>9332.519531</td>\n",
       "      <td>8890.450195</td>\n",
       "      <td>8927.030273</td>\n",
       "      <td>8926.997070</td>\n",
       "      <td>0.0</td>\n",
       "    </tr>\n",
       "    <tr>\n",
       "      <th>6</th>\n",
       "      <td>2000-01-12</td>\n",
       "      <td>8964.780273</td>\n",
       "      <td>9144.650391</td>\n",
       "      <td>8937.309570</td>\n",
       "      <td>9144.650391</td>\n",
       "      <td>9144.616211</td>\n",
       "      <td>0.0</td>\n",
       "    </tr>\n",
       "    <tr>\n",
       "      <th>7</th>\n",
       "      <td>2000-01-13</td>\n",
       "      <td>9215.759766</td>\n",
       "      <td>9237.849609</td>\n",
       "      <td>9095.349609</td>\n",
       "      <td>9107.190430</td>\n",
       "      <td>9107.156250</td>\n",
       "      <td>0.0</td>\n",
       "    </tr>\n",
       "    <tr>\n",
       "      <th>8</th>\n",
       "      <td>2000-01-14</td>\n",
       "      <td>9219.370117</td>\n",
       "      <td>9236.849609</td>\n",
       "      <td>8967.559570</td>\n",
       "      <td>9023.240234</td>\n",
       "      <td>9023.207031</td>\n",
       "      <td>0.0</td>\n",
       "    </tr>\n",
       "    <tr>\n",
       "      <th>9</th>\n",
       "      <td>2000-01-17</td>\n",
       "      <td>9256.570313</td>\n",
       "      <td>9384.519531</td>\n",
       "      <td>9230.389648</td>\n",
       "      <td>9315.429688</td>\n",
       "      <td>9315.395508</td>\n",
       "      <td>0.0</td>\n",
       "    </tr>\n",
       "  </tbody>\n",
       "</table>\n",
       "</div>"
      ],
      "text/plain": [
       "         Date         Open         High          Low        Close  \\\n",
       "0  2000-01-04  8644.910156  8803.610352  8642.500000  8756.549805   \n",
       "1  2000-01-05  8690.599609  8867.679688  8668.019531  8849.870117   \n",
       "2  2000-01-06  8900.559570  9023.990234  8833.910156  8922.030273   \n",
       "3  2000-01-07  8853.429688  8940.769531  8739.429688  8849.870117   \n",
       "4  2000-01-10  8941.929688  9126.019531  8891.790039  9102.599609   \n",
       "5  2000-01-11  9254.179688  9332.519531  8890.450195  8927.030273   \n",
       "6  2000-01-12  8964.780273  9144.650391  8937.309570  9144.650391   \n",
       "7  2000-01-13  9215.759766  9237.849609  9095.349609  9107.190430   \n",
       "8  2000-01-14  9219.370117  9236.849609  8967.559570  9023.240234   \n",
       "9  2000-01-17  9256.570313  9384.519531  9230.389648  9315.429688   \n",
       "\n",
       "     Adj Close  Volume  \n",
       "0  8756.517578     0.0  \n",
       "1  8849.837891     0.0  \n",
       "2  8921.997070     0.0  \n",
       "3  8849.837891     0.0  \n",
       "4  9102.565430     0.0  \n",
       "5  8926.997070     0.0  \n",
       "6  9144.616211     0.0  \n",
       "7  9107.156250     0.0  \n",
       "8  9023.207031     0.0  \n",
       "9  9315.395508     0.0  "
      ]
     },
     "execution_count": 3,
     "metadata": {},
     "output_type": "execute_result"
    }
   ],
   "source": [
    "# 設定 data_path\n",
    "dir_path = '../data/'\n",
    "file_name = \"TSEC2000201904.csv\"\n",
    "f_app_train = os.path.join(dir_path, file_name)\n",
    "tsec_data = pd.read_csv(f_app_train)\n",
    "print(\"Shape: {}\".format(tsec_data.shape))\n",
    "tsec_data.head(10)"
   ]
  },
  {
   "cell_type": "markdown",
   "metadata": {
    "collapsed": true
   },
   "source": [
    "### 計算數值"
   ]
  },
  {
   "cell_type": "code",
   "execution_count": 76,
   "metadata": {},
   "outputs": [
    {
     "name": "stdout",
     "output_type": "stream",
     "text": [
      "Shape: (4748, 7)\n"
     ]
    }
   ],
   "source": [
    "tsec_data = tsec_data.dropna()\n",
    "print(\"Shape: {}\".format(tsec_data.shape))"
   ]
  },
  {
   "cell_type": "code",
   "execution_count": 25,
   "metadata": {},
   "outputs": [
    {
     "data": {
      "text/html": [
       "<div>\n",
       "<style scoped>\n",
       "    .dataframe tbody tr th:only-of-type {\n",
       "        vertical-align: middle;\n",
       "    }\n",
       "\n",
       "    .dataframe tbody tr th {\n",
       "        vertical-align: top;\n",
       "    }\n",
       "\n",
       "    .dataframe thead th {\n",
       "        text-align: right;\n",
       "    }\n",
       "</style>\n",
       "<table border=\"1\" class=\"dataframe\">\n",
       "  <thead>\n",
       "    <tr style=\"text-align: right;\">\n",
       "      <th></th>\n",
       "      <th>Mean</th>\n",
       "      <th>Var</th>\n",
       "      <th>Std</th>\n",
       "      <th>Skew</th>\n",
       "      <th>Kurt</th>\n",
       "    </tr>\n",
       "  </thead>\n",
       "  <tbody>\n",
       "    <tr>\n",
       "      <th>Open</th>\n",
       "      <td>7.583061e+03</td>\n",
       "      <td>3.156210e+06</td>\n",
       "      <td>1.776573e+03</td>\n",
       "      <td>-0.090417</td>\n",
       "      <td>-0.798154</td>\n",
       "    </tr>\n",
       "    <tr>\n",
       "      <th>High</th>\n",
       "      <td>7.624294e+03</td>\n",
       "      <td>3.148833e+06</td>\n",
       "      <td>1.774495e+03</td>\n",
       "      <td>-0.086580</td>\n",
       "      <td>-0.801126</td>\n",
       "    </tr>\n",
       "    <tr>\n",
       "      <th>Low</th>\n",
       "      <td>7.531110e+03</td>\n",
       "      <td>3.157419e+06</td>\n",
       "      <td>1.776913e+03</td>\n",
       "      <td>-0.084840</td>\n",
       "      <td>-0.797763</td>\n",
       "    </tr>\n",
       "    <tr>\n",
       "      <th>Close</th>\n",
       "      <td>7.575637e+03</td>\n",
       "      <td>3.153981e+06</td>\n",
       "      <td>1.775945e+03</td>\n",
       "      <td>-0.084510</td>\n",
       "      <td>-0.800444</td>\n",
       "    </tr>\n",
       "    <tr>\n",
       "      <th>Adj Close</th>\n",
       "      <td>7.575614e+03</td>\n",
       "      <td>3.153985e+06</td>\n",
       "      <td>1.775946e+03</td>\n",
       "      <td>-0.084497</td>\n",
       "      <td>-0.800435</td>\n",
       "    </tr>\n",
       "    <tr>\n",
       "      <th>Volume</th>\n",
       "      <td>4.612713e+07</td>\n",
       "      <td>8.586850e+16</td>\n",
       "      <td>2.930333e+08</td>\n",
       "      <td>6.916034</td>\n",
       "      <td>48.375950</td>\n",
       "    </tr>\n",
       "  </tbody>\n",
       "</table>\n",
       "</div>"
      ],
      "text/plain": [
       "                   Mean           Var           Std      Skew       Kurt\n",
       "Open       7.583061e+03  3.156210e+06  1.776573e+03 -0.090417  -0.798154\n",
       "High       7.624294e+03  3.148833e+06  1.774495e+03 -0.086580  -0.801126\n",
       "Low        7.531110e+03  3.157419e+06  1.776913e+03 -0.084840  -0.797763\n",
       "Close      7.575637e+03  3.153981e+06  1.775945e+03 -0.084510  -0.800444\n",
       "Adj Close  7.575614e+03  3.153985e+06  1.775946e+03 -0.084497  -0.800435\n",
       "Volume     4.612713e+07  8.586850e+16  2.930333e+08  6.916034  48.375950"
      ]
     },
     "execution_count": 25,
     "metadata": {},
     "output_type": "execute_result"
    }
   ],
   "source": [
    "#df['Tag'].cumsum()\n",
    "#df['Tag'].median()   \n",
    "#df['Tag'].var()          \n",
    "#df['Tag'].skew()     \n",
    "#df['Tag'].kurt()     \n",
    "#df.corr()           \n",
    "#df.cov()\n",
    "mean = tsec_data.mean()\n",
    "var = tsec_data.var()\n",
    "std  = tsec_data.std()\n",
    "skew = tsec_data.skew()\n",
    "kurt = tsec_data.kurt()\n",
    "df_prop = pd.DataFrame(zip(mean,var,std,skew,kurt),index = mean.index,columns=[\"Mean\",\"Var\",\"Std\",\"Skew\",\"Kurt\"])\n",
    "df_prop"
   ]
  },
  {
   "cell_type": "code",
   "execution_count": 26,
   "metadata": {},
   "outputs": [
    {
     "data": {
      "text/html": [
       "<div>\n",
       "<style scoped>\n",
       "    .dataframe tbody tr th:only-of-type {\n",
       "        vertical-align: middle;\n",
       "    }\n",
       "\n",
       "    .dataframe tbody tr th {\n",
       "        vertical-align: top;\n",
       "    }\n",
       "\n",
       "    .dataframe thead th {\n",
       "        text-align: right;\n",
       "    }\n",
       "</style>\n",
       "<table border=\"1\" class=\"dataframe\">\n",
       "  <thead>\n",
       "    <tr style=\"text-align: right;\">\n",
       "      <th></th>\n",
       "      <th>Open</th>\n",
       "      <th>High</th>\n",
       "      <th>Low</th>\n",
       "      <th>Close</th>\n",
       "      <th>Adj Close</th>\n",
       "      <th>Volume</th>\n",
       "    </tr>\n",
       "  </thead>\n",
       "  <tbody>\n",
       "    <tr>\n",
       "      <th>Open</th>\n",
       "      <td>3.156210e+06</td>\n",
       "      <td>3.151563e+06</td>\n",
       "      <td>3.155417e+06</td>\n",
       "      <td>3.152327e+06</td>\n",
       "      <td>3.152329e+06</td>\n",
       "      <td>1.107124e+11</td>\n",
       "    </tr>\n",
       "    <tr>\n",
       "      <th>High</th>\n",
       "      <td>3.151563e+06</td>\n",
       "      <td>3.148833e+06</td>\n",
       "      <td>3.151556e+06</td>\n",
       "      <td>3.150039e+06</td>\n",
       "      <td>3.150041e+06</td>\n",
       "      <td>1.107945e+11</td>\n",
       "    </tr>\n",
       "    <tr>\n",
       "      <th>Low</th>\n",
       "      <td>3.155417e+06</td>\n",
       "      <td>3.151556e+06</td>\n",
       "      <td>3.157419e+06</td>\n",
       "      <td>3.154638e+06</td>\n",
       "      <td>3.154640e+06</td>\n",
       "      <td>1.114501e+11</td>\n",
       "    </tr>\n",
       "    <tr>\n",
       "      <th>Close</th>\n",
       "      <td>3.152327e+06</td>\n",
       "      <td>3.150039e+06</td>\n",
       "      <td>3.154638e+06</td>\n",
       "      <td>3.153981e+06</td>\n",
       "      <td>3.153983e+06</td>\n",
       "      <td>1.115543e+11</td>\n",
       "    </tr>\n",
       "    <tr>\n",
       "      <th>Adj Close</th>\n",
       "      <td>3.152329e+06</td>\n",
       "      <td>3.150041e+06</td>\n",
       "      <td>3.154640e+06</td>\n",
       "      <td>3.153983e+06</td>\n",
       "      <td>3.153985e+06</td>\n",
       "      <td>1.115553e+11</td>\n",
       "    </tr>\n",
       "    <tr>\n",
       "      <th>Volume</th>\n",
       "      <td>1.107124e+11</td>\n",
       "      <td>1.107945e+11</td>\n",
       "      <td>1.114501e+11</td>\n",
       "      <td>1.115543e+11</td>\n",
       "      <td>1.115553e+11</td>\n",
       "      <td>8.586850e+16</td>\n",
       "    </tr>\n",
       "  </tbody>\n",
       "</table>\n",
       "</div>"
      ],
      "text/plain": [
       "                   Open          High           Low         Close  \\\n",
       "Open       3.156210e+06  3.151563e+06  3.155417e+06  3.152327e+06   \n",
       "High       3.151563e+06  3.148833e+06  3.151556e+06  3.150039e+06   \n",
       "Low        3.155417e+06  3.151556e+06  3.157419e+06  3.154638e+06   \n",
       "Close      3.152327e+06  3.150039e+06  3.154638e+06  3.153981e+06   \n",
       "Adj Close  3.152329e+06  3.150041e+06  3.154640e+06  3.153983e+06   \n",
       "Volume     1.107124e+11  1.107945e+11  1.114501e+11  1.115543e+11   \n",
       "\n",
       "              Adj Close        Volume  \n",
       "Open       3.152329e+06  1.107124e+11  \n",
       "High       3.150041e+06  1.107945e+11  \n",
       "Low        3.154640e+06  1.114501e+11  \n",
       "Close      3.153983e+06  1.115543e+11  \n",
       "Adj Close  3.153985e+06  1.115553e+11  \n",
       "Volume     1.115553e+11  8.586850e+16  "
      ]
     },
     "execution_count": 26,
     "metadata": {},
     "output_type": "execute_result"
    }
   ],
   "source": [
    "cov = tsec_data.cov()\n",
    "cov"
   ]
  },
  {
   "cell_type": "markdown",
   "metadata": {},
   "source": [
    "### 畫圖"
   ]
  },
  {
   "cell_type": "code",
   "execution_count": 19,
   "metadata": {},
   "outputs": [
    {
     "data": {
      "text/plain": [
       "array([[<matplotlib.axes._subplots.AxesSubplot object at 0x7f4f43857cf8>,\n",
       "        <matplotlib.axes._subplots.AxesSubplot object at 0x7f4f41e94438>],\n",
       "       [<matplotlib.axes._subplots.AxesSubplot object at 0x7f4f41eb89b0>,\n",
       "        <matplotlib.axes._subplots.AxesSubplot object at 0x7f4f41e5ef28>],\n",
       "       [<matplotlib.axes._subplots.AxesSubplot object at 0x7f4f41e0e4e0>,\n",
       "        <matplotlib.axes._subplots.AxesSubplot object at 0x7f4f41e37a58>]],\n",
       "      dtype=object)"
      ]
     },
     "execution_count": 19,
     "metadata": {},
     "output_type": "execute_result"
    },
    {
     "data": {
      "image/png": "[encoded data removed]",
      "text/plain": [
       "<Figure size 720x720 with 6 Axes>"
      ]
     },
     "metadata": {
      "needs_background": "light"
     },
     "output_type": "display_data"
    }
   ],
   "source": [
    "tsec_data.hist(figsize=(10,10))"
   ]
  }
 ],
 "metadata": {
  "kernelspec": {
   "display_name": "Python 3",
   "language": "python",
   "name": "python3"
  },
  "language_info": {
   "codemirror_mode": {
    "name": "ipython",
    "version": 3
   },
   "file_extension": ".py",
   "mimetype": "text/x-python",
   "name": "python",
   "nbconvert_exporter": "python",
   "pygments_lexer": "ipython3",
   "version": "3.7.3"
  }
 },
 "nbformat": 4,
 "nbformat_minor": 2
}
